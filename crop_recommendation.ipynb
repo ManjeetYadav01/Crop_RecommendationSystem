{
  "nbformat": 4,
  "nbformat_minor": 0,
  "metadata": {
    "colab": {
      "name": "crop_recommendation.ipynb",
      "provenance": []
    },
    "kernelspec": {
      "name": "python3",
      "display_name": "Python 3"
    },
    "language_info": {
      "name": "python"
    },
    "widgets": {
      "application/vnd.jupyter.widget-state+json": {
        "c69345306c234c928297f243401fb876": {
          "model_module": "@jupyter-widgets/controls",
          "model_name": "VBoxModel",
          "model_module_version": "1.5.0",
          "state": {
            "_dom_classes": [
              "widget-interact"
            ],
            "_model_module": "@jupyter-widgets/controls",
            "_model_module_version": "1.5.0",
            "_model_name": "VBoxModel",
            "_view_count": null,
            "_view_module": "@jupyter-widgets/controls",
            "_view_module_version": "1.5.0",
            "_view_name": "VBoxView",
            "box_style": "",
            "children": [
              "IPY_MODEL_27b24c54b3334a868f6fac0a81899ae5",
              "IPY_MODEL_48a9dae469c644b7a6ea0b74a0fa814f"
            ],
            "layout": "IPY_MODEL_35bfab7e97e24e37bf21251790d23c97"
          }
        },
        "27b24c54b3334a868f6fac0a81899ae5": {
          "model_module": "@jupyter-widgets/controls",
          "model_name": "DropdownModel",
          "model_module_version": "1.5.0",
          "state": {
            "_dom_classes": [],
            "_model_module": "@jupyter-widgets/controls",
            "_model_module_version": "1.5.0",
            "_model_name": "DropdownModel",
            "_options_labels": [
              "rice",
              "maize",
              "jute",
              "cotton",
              "coconut",
              "papaya",
              "orange",
              "apple",
              "muskmelon",
              "watermelon",
              "grapes",
              "mango",
              "banana",
              "pomegranate",
              "lentil",
              "blackgram",
              "mungbean",
              "mothbeans",
              "pigeonpeas",
              "kidneybeans",
              "chickpea",
              "coffee"
            ],
            "_view_count": null,
            "_view_module": "@jupyter-widgets/controls",
            "_view_module_version": "1.5.0",
            "_view_name": "DropdownView",
            "description": "crops",
            "description_tooltip": null,
            "disabled": false,
            "index": 0,
            "layout": "IPY_MODEL_0cb0dd1e85f5420a86f27743baa48087",
            "style": "IPY_MODEL_35e93f2a673c42f6bc3c7ba24dfb1801"
          }
        },
        "48a9dae469c644b7a6ea0b74a0fa814f": {
          "model_module": "@jupyter-widgets/output",
          "model_name": "OutputModel",
          "model_module_version": "1.0.0",
          "state": {
            "_dom_classes": [],
            "_model_module": "@jupyter-widgets/output",
            "_model_module_version": "1.0.0",
            "_model_name": "OutputModel",
            "_view_count": null,
            "_view_module": "@jupyter-widgets/output",
            "_view_module_version": "1.0.0",
            "_view_name": "OutputView",
            "layout": "IPY_MODEL_48a1f365b8f94e37a56d7323f06e8496",
            "msg_id": "",
            "outputs": [
              {
                "output_type": "stream",
                "name": "stdout",
                "text": [
                  "statistics for Nitrogen===========:\n",
                  "avg nitrogen required: 79.89\n",
                  "minimum nitrogen required: 60\n",
                  "maximum nitrogen required: 99\n",
                  "statistics for phosphorus==========:\n",
                  "minimum phosphorus required: 35\n",
                  "minimum phosphorus required: 47.58\n",
                  "minimum phosphorus required: 60\n",
                  "statistics for potassium==========:\n",
                  "minimum potassium required: 35\n",
                  "minimum potassium required: 39.87\n",
                  "minimum potassium required: 45\n",
                  "statistics for temperature==========:\n",
                  "minimum temperature required:{0:.2f} 20.0454142\n",
                  "minimum temperature required:{0:.2f} 23.6893322105\n",
                  "minimum temperature required:{0:.2f} 26.92995077\n",
                  "statistics for humidity==========:\n",
                  "minimum humidity required:{0:.2f} 82.27282153889999\n",
                  "minimum humidity required:{0:.2f} 82.27282153889999\n",
                  "minimum humidity required:{0:.2f} 84.96907151\n",
                  "statistics for ph==========:\n",
                  "minimum ph required:{0:.2f} 5.005306977\n",
                  "minimum ph required:{0:.2f} 6.425470922139999\n",
                  "minimum ph required:{0:.2f} 7.868474653\n",
                  "statistics for rainfall==========:\n",
                  "minimum rainfall required:{0:.2f} 182.5616319\n",
                  "minimum rainfall required:{0:.2f} 236.18111359399998\n",
                  "minimum rainfall required:{0:.2f} 298.5601175\n"
                ]
              }
            ]
          }
        },
        "35bfab7e97e24e37bf21251790d23c97": {
          "model_module": "@jupyter-widgets/base",
          "model_name": "LayoutModel",
          "model_module_version": "1.2.0",
          "state": {
            "_model_module": "@jupyter-widgets/base",
            "_model_module_version": "1.2.0",
            "_model_name": "LayoutModel",
            "_view_count": null,
            "_view_module": "@jupyter-widgets/base",
            "_view_module_version": "1.2.0",
            "_view_name": "LayoutView",
            "align_content": null,
            "align_items": null,
            "align_self": null,
            "border": null,
            "bottom": null,
            "display": null,
            "flex": null,
            "flex_flow": null,
            "grid_area": null,
            "grid_auto_columns": null,
            "grid_auto_flow": null,
            "grid_auto_rows": null,
            "grid_column": null,
            "grid_gap": null,
            "grid_row": null,
            "grid_template_areas": null,
            "grid_template_columns": null,
            "grid_template_rows": null,
            "height": null,
            "justify_content": null,
            "justify_items": null,
            "left": null,
            "margin": null,
            "max_height": null,
            "max_width": null,
            "min_height": null,
            "min_width": null,
            "object_fit": null,
            "object_position": null,
            "order": null,
            "overflow": null,
            "overflow_x": null,
            "overflow_y": null,
            "padding": null,
            "right": null,
            "top": null,
            "visibility": null,
            "width": null
          }
        },
        "0cb0dd1e85f5420a86f27743baa48087": {
          "model_module": "@jupyter-widgets/base",
          "model_name": "LayoutModel",
          "model_module_version": "1.2.0",
          "state": {
            "_model_module": "@jupyter-widgets/base",
            "_model_module_version": "1.2.0",
            "_model_name": "LayoutModel",
            "_view_count": null,
            "_view_module": "@jupyter-widgets/base",
            "_view_module_version": "1.2.0",
            "_view_name": "LayoutView",
            "align_content": null,
            "align_items": null,
            "align_self": null,
            "border": null,
            "bottom": null,
            "display": null,
            "flex": null,
            "flex_flow": null,
            "grid_area": null,
            "grid_auto_columns": null,
            "grid_auto_flow": null,
            "grid_auto_rows": null,
            "grid_column": null,
            "grid_gap": null,
            "grid_row": null,
            "grid_template_areas": null,
            "grid_template_columns": null,
            "grid_template_rows": null,
            "height": null,
            "justify_content": null,
            "justify_items": null,
            "left": null,
            "margin": null,
            "max_height": null,
            "max_width": null,
            "min_height": null,
            "min_width": null,
            "object_fit": null,
            "object_position": null,
            "order": null,
            "overflow": null,
            "overflow_x": null,
            "overflow_y": null,
            "padding": null,
            "right": null,
            "top": null,
            "visibility": null,
            "width": null
          }
        },
        "35e93f2a673c42f6bc3c7ba24dfb1801": {
          "model_module": "@jupyter-widgets/controls",
          "model_name": "DescriptionStyleModel",
          "model_module_version": "1.5.0",
          "state": {
            "_model_module": "@jupyter-widgets/controls",
            "_model_module_version": "1.5.0",
            "_model_name": "DescriptionStyleModel",
            "_view_count": null,
            "_view_module": "@jupyter-widgets/base",
            "_view_module_version": "1.2.0",
            "_view_name": "StyleView",
            "description_width": ""
          }
        },
        "48a1f365b8f94e37a56d7323f06e8496": {
          "model_module": "@jupyter-widgets/base",
          "model_name": "LayoutModel",
          "model_module_version": "1.2.0",
          "state": {
            "_model_module": "@jupyter-widgets/base",
            "_model_module_version": "1.2.0",
            "_model_name": "LayoutModel",
            "_view_count": null,
            "_view_module": "@jupyter-widgets/base",
            "_view_module_version": "1.2.0",
            "_view_name": "LayoutView",
            "align_content": null,
            "align_items": null,
            "align_self": null,
            "border": null,
            "bottom": null,
            "display": null,
            "flex": null,
            "flex_flow": null,
            "grid_area": null,
            "grid_auto_columns": null,
            "grid_auto_flow": null,
            "grid_auto_rows": null,
            "grid_column": null,
            "grid_gap": null,
            "grid_row": null,
            "grid_template_areas": null,
            "grid_template_columns": null,
            "grid_template_rows": null,
            "height": null,
            "justify_content": null,
            "justify_items": null,
            "left": null,
            "margin": null,
            "max_height": null,
            "max_width": null,
            "min_height": null,
            "min_width": null,
            "object_fit": null,
            "object_position": null,
            "order": null,
            "overflow": null,
            "overflow_x": null,
            "overflow_y": null,
            "padding": null,
            "right": null,
            "top": null,
            "visibility": null,
            "width": null
          }
        },
        "61f6a492f3cf4dd58b0c6e31a336451e": {
          "model_module": "@jupyter-widgets/controls",
          "model_name": "VBoxModel",
          "model_module_version": "1.5.0",
          "state": {
            "_dom_classes": [
              "widget-interact"
            ],
            "_model_module": "@jupyter-widgets/controls",
            "_model_module_version": "1.5.0",
            "_model_name": "VBoxModel",
            "_view_count": null,
            "_view_module": "@jupyter-widgets/controls",
            "_view_module_version": "1.5.0",
            "_view_name": "VBoxView",
            "box_style": "",
            "children": [
              "IPY_MODEL_ef317c14981c4cc5bf1f2e73b76244a0",
              "IPY_MODEL_2fd13e26a944449d9abaf90f50e35013"
            ],
            "layout": "IPY_MODEL_af38cb96fb20467eaa76580801135b42"
          }
        },
        "ef317c14981c4cc5bf1f2e73b76244a0": {
          "model_module": "@jupyter-widgets/controls",
          "model_name": "DropdownModel",
          "model_module_version": "1.5.0",
          "state": {
            "_dom_classes": [],
            "_model_module": "@jupyter-widgets/controls",
            "_model_module_version": "1.5.0",
            "_model_name": "DropdownModel",
            "_options_labels": [
              "N",
              "P",
              "K",
              "temperature",
              "humidity",
              "ph",
              "rainfall"
            ],
            "_view_count": null,
            "_view_module": "@jupyter-widgets/controls",
            "_view_module_version": "1.5.0",
            "_view_name": "DropdownView",
            "description": "conditions",
            "description_tooltip": null,
            "disabled": false,
            "index": 0,
            "layout": "IPY_MODEL_de7d055073c3415893a19e45b7157d42",
            "style": "IPY_MODEL_de0bd8f4f2544370926121527fffc87e"
          }
        },
        "2fd13e26a944449d9abaf90f50e35013": {
          "model_module": "@jupyter-widgets/output",
          "model_name": "OutputModel",
          "model_module_version": "1.0.0",
          "state": {
            "_dom_classes": [],
            "_model_module": "@jupyter-widgets/output",
            "_model_module_version": "1.0.0",
            "_model_name": "OutputModel",
            "_view_count": null,
            "_view_module": "@jupyter-widgets/output",
            "_view_module_version": "1.0.0",
            "_view_name": "OutputView",
            "layout": "IPY_MODEL_fda03060855a42e58e55daf893699b0d",
            "msg_id": "",
            "outputs": [
              {
                "output_type": "stream",
                "name": "stdout",
                "text": [
                  "avg value for N is 50.55\n",
                  "\n",
                  "rice: 79.89\n",
                  "\n",
                  "maize: 77.76\n",
                  "\n",
                  "jute: 78.40\n",
                  "\n",
                  "cotton: 117.77\n",
                  "\n",
                  "coconut: 21.98\n",
                  "\n",
                  "papaya: 49.88\n",
                  "\n",
                  "orange: 19.58\n",
                  "\n",
                  "apple: 20.80\n",
                  "\n",
                  "muskmelon: 100.32\n",
                  "\n",
                  "watermelon: 99.42\n",
                  "\n",
                  "grapes: 23.18\n",
                  "\n",
                  "mango: 20.07\n",
                  "\n",
                  "banana: 100.23\n",
                  "\n",
                  "pomegranate: 18.87\n",
                  "\n",
                  "lentil: 18.77\n",
                  "\n",
                  "blackgram : nan\n",
                  "\n",
                  "mungbean: 20.99\n",
                  "\n",
                  "mothbeans: 21.44\n",
                  "\n",
                  "pigeonpeas: 20.73\n",
                  "\n",
                  "kidneybeans: 20.75\n",
                  "\n",
                  "chickpea: 40.09\n",
                  "\n",
                  "coffee: 101.20\n",
                  "\n"
                ]
              }
            ]
          }
        },
        "af38cb96fb20467eaa76580801135b42": {
          "model_module": "@jupyter-widgets/base",
          "model_name": "LayoutModel",
          "model_module_version": "1.2.0",
          "state": {
            "_model_module": "@jupyter-widgets/base",
            "_model_module_version": "1.2.0",
            "_model_name": "LayoutModel",
            "_view_count": null,
            "_view_module": "@jupyter-widgets/base",
            "_view_module_version": "1.2.0",
            "_view_name": "LayoutView",
            "align_content": null,
            "align_items": null,
            "align_self": null,
            "border": null,
            "bottom": null,
            "display": null,
            "flex": null,
            "flex_flow": null,
            "grid_area": null,
            "grid_auto_columns": null,
            "grid_auto_flow": null,
            "grid_auto_rows": null,
            "grid_column": null,
            "grid_gap": null,
            "grid_row": null,
            "grid_template_areas": null,
            "grid_template_columns": null,
            "grid_template_rows": null,
            "height": null,
            "justify_content": null,
            "justify_items": null,
            "left": null,
            "margin": null,
            "max_height": null,
            "max_width": null,
            "min_height": null,
            "min_width": null,
            "object_fit": null,
            "object_position": null,
            "order": null,
            "overflow": null,
            "overflow_x": null,
            "overflow_y": null,
            "padding": null,
            "right": null,
            "top": null,
            "visibility": null,
            "width": null
          }
        },
        "de7d055073c3415893a19e45b7157d42": {
          "model_module": "@jupyter-widgets/base",
          "model_name": "LayoutModel",
          "model_module_version": "1.2.0",
          "state": {
            "_model_module": "@jupyter-widgets/base",
            "_model_module_version": "1.2.0",
            "_model_name": "LayoutModel",
            "_view_count": null,
            "_view_module": "@jupyter-widgets/base",
            "_view_module_version": "1.2.0",
            "_view_name": "LayoutView",
            "align_content": null,
            "align_items": null,
            "align_self": null,
            "border": null,
            "bottom": null,
            "display": null,
            "flex": null,
            "flex_flow": null,
            "grid_area": null,
            "grid_auto_columns": null,
            "grid_auto_flow": null,
            "grid_auto_rows": null,
            "grid_column": null,
            "grid_gap": null,
            "grid_row": null,
            "grid_template_areas": null,
            "grid_template_columns": null,
            "grid_template_rows": null,
            "height": null,
            "justify_content": null,
            "justify_items": null,
            "left": null,
            "margin": null,
            "max_height": null,
            "max_width": null,
            "min_height": null,
            "min_width": null,
            "object_fit": null,
            "object_position": null,
            "order": null,
            "overflow": null,
            "overflow_x": null,
            "overflow_y": null,
            "padding": null,
            "right": null,
            "top": null,
            "visibility": null,
            "width": null
          }
        },
        "de0bd8f4f2544370926121527fffc87e": {
          "model_module": "@jupyter-widgets/controls",
          "model_name": "DescriptionStyleModel",
          "model_module_version": "1.5.0",
          "state": {
            "_model_module": "@jupyter-widgets/controls",
            "_model_module_version": "1.5.0",
            "_model_name": "DescriptionStyleModel",
            "_view_count": null,
            "_view_module": "@jupyter-widgets/base",
            "_view_module_version": "1.2.0",
            "_view_name": "StyleView",
            "description_width": ""
          }
        },
        "fda03060855a42e58e55daf893699b0d": {
          "model_module": "@jupyter-widgets/base",
          "model_name": "LayoutModel",
          "model_module_version": "1.2.0",
          "state": {
            "_model_module": "@jupyter-widgets/base",
            "_model_module_version": "1.2.0",
            "_model_name": "LayoutModel",
            "_view_count": null,
            "_view_module": "@jupyter-widgets/base",
            "_view_module_version": "1.2.0",
            "_view_name": "LayoutView",
            "align_content": null,
            "align_items": null,
            "align_self": null,
            "border": null,
            "bottom": null,
            "display": null,
            "flex": null,
            "flex_flow": null,
            "grid_area": null,
            "grid_auto_columns": null,
            "grid_auto_flow": null,
            "grid_auto_rows": null,
            "grid_column": null,
            "grid_gap": null,
            "grid_row": null,
            "grid_template_areas": null,
            "grid_template_columns": null,
            "grid_template_rows": null,
            "height": null,
            "justify_content": null,
            "justify_items": null,
            "left": null,
            "margin": null,
            "max_height": null,
            "max_width": null,
            "min_height": null,
            "min_width": null,
            "object_fit": null,
            "object_position": null,
            "order": null,
            "overflow": null,
            "overflow_x": null,
            "overflow_y": null,
            "padding": null,
            "right": null,
            "top": null,
            "visibility": null,
            "width": null
          }
        }
      }
    }
  },
  "cells": [
    {
      "cell_type": "code",
      "execution_count": null,
      "metadata": {
        "id": "ybRvOJDfsS5T"
      },
      "outputs": [],
      "source": [
        "import numpy as np\n",
        "import pandas as pd\n",
        "import seaborn as sns\n",
        "import matplotlib.pyplot as plt\n",
        "from ipywidgets import interact\n",
        "import warnings\n",
        "warnings.filterwarnings(\"ignore\")\n",
        "import pickle"
      ]
    },
    {
      "cell_type": "code",
      "source": [
        "df=pd.read_csv('Crop_recommendation.csv')\n",
        "df.tail(20)"
      ],
      "metadata": {
        "colab": {
          "base_uri": "https://localhost:8080/",
          "height": 677
        },
        "id": "kWQQ99dXtd-c",
        "outputId": "761f52da-67a3-4f24-c7b8-91b1b7e28d4d"
      },
      "execution_count": null,
      "outputs": [
        {
          "output_type": "execute_result",
          "data": {
            "text/plain": [
              "        N   P   K  temperature   humidity        ph    rainfall   label\n",
              "2180   80  18  31    24.029525  58.848806  7.303033  134.680397  coffee\n",
              "2181  101  31  26    26.708975  69.711841  6.861235  158.860889  coffee\n",
              "2182  103  33  33    26.717174  50.501485  7.131436  126.807398  coffee\n",
              "2183   93  26  27    24.592457  56.468296  7.288212  137.704405  coffee\n",
              "2184  104  35  28    27.510061  50.666872  6.983732  143.995555  coffee\n",
              "2185  116  36  25    27.578476  58.525343  6.172090  156.681037  coffee\n",
              "2186  107  38  29    26.650693  57.566957  6.351182  145.105065  coffee\n",
              "2187  101  33  33    26.972516  62.018363  6.908671  142.861079  coffee\n",
              "2188  107  31  31    23.171246  52.978412  6.766184  153.120164  coffee\n",
              "2189   99  16  30    23.526521  65.443409  6.392792  186.172820  coffee\n",
              "2190  103  40  30    27.309018  55.196224  6.348316  141.483164  coffee\n",
              "2191  118  31  34    27.548230  62.881792  6.123796  181.417081  coffee\n",
              "2192  106  21  35    25.627355  57.041511  7.428524  188.550654  coffee\n",
              "2193  116  38  34    23.292503  50.045570  6.020947  183.468585  coffee\n",
              "2194   97  35  26    24.914610  53.741447  6.334610  166.254931  coffee\n",
              "2195  107  34  32    26.774637  66.413269  6.780064  177.774507  coffee\n",
              "2196   99  15  27    27.417112  56.636362  6.086922  127.924610  coffee\n",
              "2197  118  33  30    24.131797  67.225123  6.362608  173.322839  coffee\n",
              "2198  117  32  34    26.272418  52.127394  6.758793  127.175293  coffee\n",
              "2199  104  18  30    23.603016  60.396475  6.779833  140.937041  coffee"
            ],
            "text/html": [
              "\n",
              "  <div id=\"df-4001a415-da17-4c93-ac68-6fab4560d93d\">\n",
              "    <div class=\"colab-df-container\">\n",
              "      <div>\n",
              "<style scoped>\n",
              "    .dataframe tbody tr th:only-of-type {\n",
              "        vertical-align: middle;\n",
              "    }\n",
              "\n",
              "    .dataframe tbody tr th {\n",
              "        vertical-align: top;\n",
              "    }\n",
              "\n",
              "    .dataframe thead th {\n",
              "        text-align: right;\n",
              "    }\n",
              "</style>\n",
              "<table border=\"1\" class=\"dataframe\">\n",
              "  <thead>\n",
              "    <tr style=\"text-align: right;\">\n",
              "      <th></th>\n",
              "      <th>N</th>\n",
              "      <th>P</th>\n",
              "      <th>K</th>\n",
              "      <th>temperature</th>\n",
              "      <th>humidity</th>\n",
              "      <th>ph</th>\n",
              "      <th>rainfall</th>\n",
              "      <th>label</th>\n",
              "    </tr>\n",
              "  </thead>\n",
              "  <tbody>\n",
              "    <tr>\n",
              "      <th>2180</th>\n",
              "      <td>80</td>\n",
              "      <td>18</td>\n",
              "      <td>31</td>\n",
              "      <td>24.029525</td>\n",
              "      <td>58.848806</td>\n",
              "      <td>7.303033</td>\n",
              "      <td>134.680397</td>\n",
              "      <td>coffee</td>\n",
              "    </tr>\n",
              "    <tr>\n",
              "      <th>2181</th>\n",
              "      <td>101</td>\n",
              "      <td>31</td>\n",
              "      <td>26</td>\n",
              "      <td>26.708975</td>\n",
              "      <td>69.711841</td>\n",
              "      <td>6.861235</td>\n",
              "      <td>158.860889</td>\n",
              "      <td>coffee</td>\n",
              "    </tr>\n",
              "    <tr>\n",
              "      <th>2182</th>\n",
              "      <td>103</td>\n",
              "      <td>33</td>\n",
              "      <td>33</td>\n",
              "      <td>26.717174</td>\n",
              "      <td>50.501485</td>\n",
              "      <td>7.131436</td>\n",
              "      <td>126.807398</td>\n",
              "      <td>coffee</td>\n",
              "    </tr>\n",
              "    <tr>\n",
              "      <th>2183</th>\n",
              "      <td>93</td>\n",
              "      <td>26</td>\n",
              "      <td>27</td>\n",
              "      <td>24.592457</td>\n",
              "      <td>56.468296</td>\n",
              "      <td>7.288212</td>\n",
              "      <td>137.704405</td>\n",
              "      <td>coffee</td>\n",
              "    </tr>\n",
              "    <tr>\n",
              "      <th>2184</th>\n",
              "      <td>104</td>\n",
              "      <td>35</td>\n",
              "      <td>28</td>\n",
              "      <td>27.510061</td>\n",
              "      <td>50.666872</td>\n",
              "      <td>6.983732</td>\n",
              "      <td>143.995555</td>\n",
              "      <td>coffee</td>\n",
              "    </tr>\n",
              "    <tr>\n",
              "      <th>2185</th>\n",
              "      <td>116</td>\n",
              "      <td>36</td>\n",
              "      <td>25</td>\n",
              "      <td>27.578476</td>\n",
              "      <td>58.525343</td>\n",
              "      <td>6.172090</td>\n",
              "      <td>156.681037</td>\n",
              "      <td>coffee</td>\n",
              "    </tr>\n",
              "    <tr>\n",
              "      <th>2186</th>\n",
              "      <td>107</td>\n",
              "      <td>38</td>\n",
              "      <td>29</td>\n",
              "      <td>26.650693</td>\n",
              "      <td>57.566957</td>\n",
              "      <td>6.351182</td>\n",
              "      <td>145.105065</td>\n",
              "      <td>coffee</td>\n",
              "    </tr>\n",
              "    <tr>\n",
              "      <th>2187</th>\n",
              "      <td>101</td>\n",
              "      <td>33</td>\n",
              "      <td>33</td>\n",
              "      <td>26.972516</td>\n",
              "      <td>62.018363</td>\n",
              "      <td>6.908671</td>\n",
              "      <td>142.861079</td>\n",
              "      <td>coffee</td>\n",
              "    </tr>\n",
              "    <tr>\n",
              "      <th>2188</th>\n",
              "      <td>107</td>\n",
              "      <td>31</td>\n",
              "      <td>31</td>\n",
              "      <td>23.171246</td>\n",
              "      <td>52.978412</td>\n",
              "      <td>6.766184</td>\n",
              "      <td>153.120164</td>\n",
              "      <td>coffee</td>\n",
              "    </tr>\n",
              "    <tr>\n",
              "      <th>2189</th>\n",
              "      <td>99</td>\n",
              "      <td>16</td>\n",
              "      <td>30</td>\n",
              "      <td>23.526521</td>\n",
              "      <td>65.443409</td>\n",
              "      <td>6.392792</td>\n",
              "      <td>186.172820</td>\n",
              "      <td>coffee</td>\n",
              "    </tr>\n",
              "    <tr>\n",
              "      <th>2190</th>\n",
              "      <td>103</td>\n",
              "      <td>40</td>\n",
              "      <td>30</td>\n",
              "      <td>27.309018</td>\n",
              "      <td>55.196224</td>\n",
              "      <td>6.348316</td>\n",
              "      <td>141.483164</td>\n",
              "      <td>coffee</td>\n",
              "    </tr>\n",
              "    <tr>\n",
              "      <th>2191</th>\n",
              "      <td>118</td>\n",
              "      <td>31</td>\n",
              "      <td>34</td>\n",
              "      <td>27.548230</td>\n",
              "      <td>62.881792</td>\n",
              "      <td>6.123796</td>\n",
              "      <td>181.417081</td>\n",
              "      <td>coffee</td>\n",
              "    </tr>\n",
              "    <tr>\n",
              "      <th>2192</th>\n",
              "      <td>106</td>\n",
              "      <td>21</td>\n",
              "      <td>35</td>\n",
              "      <td>25.627355</td>\n",
              "      <td>57.041511</td>\n",
              "      <td>7.428524</td>\n",
              "      <td>188.550654</td>\n",
              "      <td>coffee</td>\n",
              "    </tr>\n",
              "    <tr>\n",
              "      <th>2193</th>\n",
              "      <td>116</td>\n",
              "      <td>38</td>\n",
              "      <td>34</td>\n",
              "      <td>23.292503</td>\n",
              "      <td>50.045570</td>\n",
              "      <td>6.020947</td>\n",
              "      <td>183.468585</td>\n",
              "      <td>coffee</td>\n",
              "    </tr>\n",
              "    <tr>\n",
              "      <th>2194</th>\n",
              "      <td>97</td>\n",
              "      <td>35</td>\n",
              "      <td>26</td>\n",
              "      <td>24.914610</td>\n",
              "      <td>53.741447</td>\n",
              "      <td>6.334610</td>\n",
              "      <td>166.254931</td>\n",
              "      <td>coffee</td>\n",
              "    </tr>\n",
              "    <tr>\n",
              "      <th>2195</th>\n",
              "      <td>107</td>\n",
              "      <td>34</td>\n",
              "      <td>32</td>\n",
              "      <td>26.774637</td>\n",
              "      <td>66.413269</td>\n",
              "      <td>6.780064</td>\n",
              "      <td>177.774507</td>\n",
              "      <td>coffee</td>\n",
              "    </tr>\n",
              "    <tr>\n",
              "      <th>2196</th>\n",
              "      <td>99</td>\n",
              "      <td>15</td>\n",
              "      <td>27</td>\n",
              "      <td>27.417112</td>\n",
              "      <td>56.636362</td>\n",
              "      <td>6.086922</td>\n",
              "      <td>127.924610</td>\n",
              "      <td>coffee</td>\n",
              "    </tr>\n",
              "    <tr>\n",
              "      <th>2197</th>\n",
              "      <td>118</td>\n",
              "      <td>33</td>\n",
              "      <td>30</td>\n",
              "      <td>24.131797</td>\n",
              "      <td>67.225123</td>\n",
              "      <td>6.362608</td>\n",
              "      <td>173.322839</td>\n",
              "      <td>coffee</td>\n",
              "    </tr>\n",
              "    <tr>\n",
              "      <th>2198</th>\n",
              "      <td>117</td>\n",
              "      <td>32</td>\n",
              "      <td>34</td>\n",
              "      <td>26.272418</td>\n",
              "      <td>52.127394</td>\n",
              "      <td>6.758793</td>\n",
              "      <td>127.175293</td>\n",
              "      <td>coffee</td>\n",
              "    </tr>\n",
              "    <tr>\n",
              "      <th>2199</th>\n",
              "      <td>104</td>\n",
              "      <td>18</td>\n",
              "      <td>30</td>\n",
              "      <td>23.603016</td>\n",
              "      <td>60.396475</td>\n",
              "      <td>6.779833</td>\n",
              "      <td>140.937041</td>\n",
              "      <td>coffee</td>\n",
              "    </tr>\n",
              "  </tbody>\n",
              "</table>\n",
              "</div>\n",
              "      <button class=\"colab-df-convert\" onclick=\"convertToInteractive('df-4001a415-da17-4c93-ac68-6fab4560d93d')\"\n",
              "              title=\"Convert this dataframe to an interactive table.\"\n",
              "              style=\"display:none;\">\n",
              "        \n",
              "  <svg xmlns=\"http://www.w3.org/2000/svg\" height=\"24px\"viewBox=\"0 0 24 24\"\n",
              "       width=\"24px\">\n",
              "    <path d=\"M0 0h24v24H0V0z\" fill=\"none\"/>\n",
              "    <path d=\"M18.56 5.44l.94 2.06.94-2.06 2.06-.94-2.06-.94-.94-2.06-.94 2.06-2.06.94zm-11 1L8.5 8.5l.94-2.06 2.06-.94-2.06-.94L8.5 2.5l-.94 2.06-2.06.94zm10 10l.94 2.06.94-2.06 2.06-.94-2.06-.94-.94-2.06-.94 2.06-2.06.94z\"/><path d=\"M17.41 7.96l-1.37-1.37c-.4-.4-.92-.59-1.43-.59-.52 0-1.04.2-1.43.59L10.3 9.45l-7.72 7.72c-.78.78-.78 2.05 0 2.83L4 21.41c.39.39.9.59 1.41.59.51 0 1.02-.2 1.41-.59l7.78-7.78 2.81-2.81c.8-.78.8-2.07 0-2.86zM5.41 20L4 18.59l7.72-7.72 1.47 1.35L5.41 20z\"/>\n",
              "  </svg>\n",
              "      </button>\n",
              "      \n",
              "  <style>\n",
              "    .colab-df-container {\n",
              "      display:flex;\n",
              "      flex-wrap:wrap;\n",
              "      gap: 12px;\n",
              "    }\n",
              "\n",
              "    .colab-df-convert {\n",
              "      background-color: #E8F0FE;\n",
              "      border: none;\n",
              "      border-radius: 50%;\n",
              "      cursor: pointer;\n",
              "      display: none;\n",
              "      fill: #1967D2;\n",
              "      height: 32px;\n",
              "      padding: 0 0 0 0;\n",
              "      width: 32px;\n",
              "    }\n",
              "\n",
              "    .colab-df-convert:hover {\n",
              "      background-color: #E2EBFA;\n",
              "      box-shadow: 0px 1px 2px rgba(60, 64, 67, 0.3), 0px 1px 3px 1px rgba(60, 64, 67, 0.15);\n",
              "      fill: #174EA6;\n",
              "    }\n",
              "\n",
              "    [theme=dark] .colab-df-convert {\n",
              "      background-color: #3B4455;\n",
              "      fill: #D2E3FC;\n",
              "    }\n",
              "\n",
              "    [theme=dark] .colab-df-convert:hover {\n",
              "      background-color: #434B5C;\n",
              "      box-shadow: 0px 1px 3px 1px rgba(0, 0, 0, 0.15);\n",
              "      filter: drop-shadow(0px 1px 2px rgba(0, 0, 0, 0.3));\n",
              "      fill: #FFFFFF;\n",
              "    }\n",
              "  </style>\n",
              "\n",
              "      <script>\n",
              "        const buttonEl =\n",
              "          document.querySelector('#df-4001a415-da17-4c93-ac68-6fab4560d93d button.colab-df-convert');\n",
              "        buttonEl.style.display =\n",
              "          google.colab.kernel.accessAllowed ? 'block' : 'none';\n",
              "\n",
              "        async function convertToInteractive(key) {\n",
              "          const element = document.querySelector('#df-4001a415-da17-4c93-ac68-6fab4560d93d');\n",
              "          const dataTable =\n",
              "            await google.colab.kernel.invokeFunction('convertToInteractive',\n",
              "                                                     [key], {});\n",
              "          if (!dataTable) return;\n",
              "\n",
              "          const docLinkHtml = 'Like what you see? Visit the ' +\n",
              "            '<a target=\"_blank\" href=https://colab.research.google.com/notebooks/data_table.ipynb>data table notebook</a>'\n",
              "            + ' to learn more about interactive tables.';\n",
              "          element.innerHTML = '';\n",
              "          dataTable['output_type'] = 'display_data';\n",
              "          await google.colab.output.renderOutput(dataTable, element);\n",
              "          const docLink = document.createElement('div');\n",
              "          docLink.innerHTML = docLinkHtml;\n",
              "          element.appendChild(docLink);\n",
              "        }\n",
              "      </script>\n",
              "    </div>\n",
              "  </div>\n",
              "  "
            ]
          },
          "metadata": {},
          "execution_count": 4
        }
      ]
    },
    {
      "cell_type": "code",
      "source": [
        "df.shape\n"
      ],
      "metadata": {
        "colab": {
          "base_uri": "https://localhost:8080/"
        },
        "id": "3DVwBz2ztqku",
        "outputId": "09fe2821-474d-401c-dd35-85c6b141b912"
      },
      "execution_count": null,
      "outputs": [
        {
          "output_type": "execute_result",
          "data": {
            "text/plain": [
              "(2200, 8)"
            ]
          },
          "metadata": {},
          "execution_count": 5
        }
      ]
    },
    {
      "cell_type": "code",
      "source": [
        "df.isnull().sum()"
      ],
      "metadata": {
        "colab": {
          "base_uri": "https://localhost:8080/"
        },
        "id": "ZFUagKJqt3z8",
        "outputId": "1dd58116-aeda-48d9-a4a4-44b560067356"
      },
      "execution_count": null,
      "outputs": [
        {
          "output_type": "execute_result",
          "data": {
            "text/plain": [
              "N              0\n",
              "P              0\n",
              "K              0\n",
              "temperature    0\n",
              "humidity       0\n",
              "ph             0\n",
              "rainfall       0\n",
              "label          0\n",
              "dtype: int64"
            ]
          },
          "metadata": {},
          "execution_count": 6
        }
      ]
    },
    {
      "cell_type": "code",
      "source": [
        "df['label'].value_counts()"
      ],
      "metadata": {
        "colab": {
          "base_uri": "https://localhost:8080/"
        },
        "id": "YsX_NCJPudry",
        "outputId": "dd2b2fb8-c9fd-47b8-d3f4-28e3e5173768"
      },
      "execution_count": null,
      "outputs": [
        {
          "output_type": "execute_result",
          "data": {
            "text/plain": [
              "rice           100\n",
              "maize          100\n",
              "jute           100\n",
              "cotton         100\n",
              "coconut        100\n",
              "papaya         100\n",
              "orange         100\n",
              "apple          100\n",
              "muskmelon      100\n",
              "watermelon     100\n",
              "grapes         100\n",
              "mango          100\n",
              "banana         100\n",
              "pomegranate    100\n",
              "lentil         100\n",
              "blackgram      100\n",
              "mungbean       100\n",
              "mothbeans      100\n",
              "pigeonpeas     100\n",
              "kidneybeans    100\n",
              "chickpea       100\n",
              "coffee         100\n",
              "Name: label, dtype: int64"
            ]
          },
          "metadata": {},
          "execution_count": 7
        }
      ]
    },
    {
      "cell_type": "code",
      "source": [
        "df['humidity'].mean()"
      ],
      "metadata": {
        "colab": {
          "base_uri": "https://localhost:8080/"
        },
        "id": "XY5XtzBGuvP1",
        "outputId": "dfe54587-ddf4-4fa8-e18a-4d0c8c543a51"
      },
      "execution_count": null,
      "outputs": [
        {
          "output_type": "execute_result",
          "data": {
            "text/plain": [
              "71.48177921778637"
            ]
          },
          "metadata": {},
          "execution_count": 8
        }
      ]
    },
    {
      "cell_type": "code",
      "source": [
        "df['ph'].mean()"
      ],
      "metadata": {
        "colab": {
          "base_uri": "https://localhost:8080/"
        },
        "id": "kCgHiWUcvBCp",
        "outputId": "fcfda0bc-c23c-4ff8-dc0f-a5de8141f8a7"
      },
      "execution_count": null,
      "outputs": [
        {
          "output_type": "execute_result",
          "data": {
            "text/plain": [
              "6.469480065256364"
            ]
          },
          "metadata": {},
          "execution_count": 9
        }
      ]
    },
    {
      "cell_type": "code",
      "source": [
        "df['temperature'].mean()"
      ],
      "metadata": {
        "colab": {
          "base_uri": "https://localhost:8080/"
        },
        "id": "EWGptS54LkzY",
        "outputId": "ac09383d-4f42-4b84-87e2-d900bf44eb3b"
      },
      "execution_count": null,
      "outputs": [
        {
          "output_type": "execute_result",
          "data": {
            "text/plain": [
              "25.616243851779544"
            ]
          },
          "metadata": {},
          "execution_count": 10
        }
      ]
    },
    {
      "cell_type": "code",
      "source": [
        "df['rainfall'].mean()"
      ],
      "metadata": {
        "colab": {
          "base_uri": "https://localhost:8080/"
        },
        "id": "GpbSFIyFLmX-",
        "outputId": "9157ca76-f3a1-492d-d5ed-583ac62addef"
      },
      "execution_count": null,
      "outputs": [
        {
          "output_type": "execute_result",
          "data": {
            "text/plain": [
              "103.46365541576817"
            ]
          },
          "metadata": {},
          "execution_count": 11
        }
      ]
    },
    {
      "cell_type": "code",
      "source": [
        "df['N'].mean()"
      ],
      "metadata": {
        "colab": {
          "base_uri": "https://localhost:8080/"
        },
        "id": "z9lwW-wOLp6-",
        "outputId": "19d131e5-6e99-4a04-a21a-5026552432b4"
      },
      "execution_count": null,
      "outputs": [
        {
          "output_type": "execute_result",
          "data": {
            "text/plain": [
              "50.551818181818184"
            ]
          },
          "metadata": {},
          "execution_count": 12
        }
      ]
    },
    {
      "cell_type": "code",
      "source": [
        "df['P'].mean()\n"
      ],
      "metadata": {
        "colab": {
          "base_uri": "https://localhost:8080/"
        },
        "id": "ZxjVHErqLz1m",
        "outputId": "d731c26e-cff6-4842-8257-673d1a1e1c0d"
      },
      "execution_count": null,
      "outputs": [
        {
          "output_type": "execute_result",
          "data": {
            "text/plain": [
              "53.36272727272727"
            ]
          },
          "metadata": {},
          "execution_count": 13
        }
      ]
    },
    {
      "cell_type": "code",
      "source": [
        "df['K'].mean()"
      ],
      "metadata": {
        "colab": {
          "base_uri": "https://localhost:8080/"
        },
        "id": "t92OM61eL3OD",
        "outputId": "67081f2e-2fb4-4f40-b406-91f5b945e585"
      },
      "execution_count": null,
      "outputs": [
        {
          "output_type": "execute_result",
          "data": {
            "text/plain": [
              "48.14909090909091"
            ]
          },
          "metadata": {},
          "execution_count": 14
        }
      ]
    },
    {
      "cell_type": "code",
      "source": [
        "@interact\n",
        "def summary(crops=list(df['label'].value_counts().index)):\n",
        "  x=df[df['label']==crops]\n",
        "  \n",
        "  print('statistics for Nitrogen===========:')\n",
        "  print('avg nitrogen required:',x['N'].mean())\n",
        "  print('minimum nitrogen required:',x['N'].min())\n",
        "  print('maximum nitrogen required:',x['N'].max())\n",
        "\n",
        "  print('statistics for phosphorus==========:')\n",
        "  print('minimum phosphorus required:',x['P'].min())\n",
        "  print('minimum phosphorus required:',x['P'].mean())\n",
        "  print('minimum phosphorus required:',x['P'].max())\n",
        "\n",
        "  print('statistics for potassium==========:')\n",
        "  print('minimum potassium required:',x['K'].min())\n",
        "  print('minimum potassium required:',x['K'].mean())\n",
        "  print('minimum potassium required:',x['K'].max())\n",
        "\n",
        "  print('statistics for temperature==========:')\n",
        "  print('minimum temperature required:{0:.2f}',x['temperature'].min())\n",
        "  print('minimum temperature required:{0:.2f}',x['temperature'].mean())\n",
        "  print('minimum temperature required:{0:.2f}',x['temperature'].max())\n",
        "\n",
        "  print('statistics for humidity==========:')\n",
        "  print('minimum humidity required:{0:.2f}',x['humidity'].mean())\n",
        "  print('minimum humidity required:{0:.2f}',x['humidity'].mean())\n",
        "  print('minimum humidity required:{0:.2f}',x['humidity'].max())\n",
        "\n",
        "  print('statistics for ph==========:')\n",
        "  print('minimum ph required:{0:.2f}',x['ph'].min())\n",
        "  print('minimum ph required:{0:.2f}',x['ph'].mean())\n",
        "  print('minimum ph required:{0:.2f}',x['ph'].max()) \n",
        "\n",
        "  print('statistics for rainfall==========:')\n",
        "  print('minimum rainfall required:{0:.2f}',x['rainfall'].min())\n",
        "  print('minimum rainfall required:{0:.2f}',x['rainfall'].mean())\n",
        "  print('minimum rainfall required:{0:.2f}',x['rainfall'].max()) \n",
        "\n",
        "\n",
        "  \n",
        "\n",
        "\n"
      ],
      "metadata": {
        "colab": {
          "base_uri": "https://localhost:8080/",
          "height": 535,
          "referenced_widgets": [
            "c69345306c234c928297f243401fb876",
            "27b24c54b3334a868f6fac0a81899ae5",
            "48a9dae469c644b7a6ea0b74a0fa814f",
            "35bfab7e97e24e37bf21251790d23c97",
            "0cb0dd1e85f5420a86f27743baa48087",
            "35e93f2a673c42f6bc3c7ba24dfb1801",
            "48a1f365b8f94e37a56d7323f06e8496"
          ]
        },
        "id": "RTLnpbphL6Gz",
        "outputId": "689a3b66-533e-4e88-e878-aa9d2ea9eb0d"
      },
      "execution_count": null,
      "outputs": [
        {
          "output_type": "display_data",
          "data": {
            "text/plain": [
              "interactive(children=(Dropdown(description='crops', options=('rice', 'maize', 'jute', 'cotton', 'coconut', 'pa…"
            ],
            "application/vnd.jupyter.widget-view+json": {
              "version_major": 2,
              "version_minor": 0,
              "model_id": "c69345306c234c928297f243401fb876"
            }
          },
          "metadata": {}
        }
      ]
    },
    {
      "cell_type": "code",
      "source": [
        "@interact\n",
        "def compare(conditions=['N','P','K','temperature','humidity','ph','rainfall']):\n",
        "  print('avg value for', conditions,'is {0:.2f}'.format(df[conditions].mean()))\n",
        "  print('')\n",
        "  print('rice: {0:.2f}'.format(df[(df['label']=='rice')][conditions].mean()))\n",
        "  print('')\n",
        "  print('maize: {0:.2f}'.format(df[(df['label']=='maize')][conditions].mean()))\n",
        "  print('')\n",
        "  print('jute: {0:.2f}'.format(df[(df['label']=='jute')][conditions].mean()))\n",
        "  print('')\n",
        "  print('cotton: {0:.2f}'.format(df[(df['label']=='cotton')][conditions].mean()))\n",
        "  print('')\n",
        "  print('coconut: {0:.2f}'.format(df[(df['label']=='coconut')][conditions].mean()))\n",
        "  print('')\n",
        "  print('papaya: {0:.2f}'.format(df[(df['label']=='papaya')][conditions].mean()))\n",
        "  print('')\n",
        "  print('orange: {0:.2f}'.format(df[(df['label']=='orange')][conditions].mean()))\n",
        "  print('')\n",
        "  print('apple: {0:.2f}'.format(df[(df['label']=='apple')][conditions].mean()))\n",
        "  print('')\n",
        "  print('muskmelon: {0:.2f}'.format(df[(df['label']=='muskmelon')][conditions].mean()))\n",
        "  print('')\n",
        "  print('watermelon: {0:.2f}'.format(df[(df['label']=='watermelon')][conditions].mean()))\n",
        "  print('')\n",
        "  print('grapes: {0:.2f}'.format(df[(df['label']=='grapes')][conditions].mean()))\n",
        "  print('')\n",
        "  print('mango: {0:.2f}'.format(df[(df['label']=='mango')][conditions].mean()))\n",
        "  print('')\n",
        "  print('banana: {0:.2f}'.format(df[(df['label']=='banana')][conditions].mean()))\n",
        "  print('')\n",
        "  print('pomegranate: {0:.2f}'.format(df[(df['label']=='pomegranate')][conditions].mean()))\n",
        "  print('')\n",
        "  print('lentil: {0:.2f}'.format(df[(df['label']=='lentil')][conditions].mean()))\n",
        "  print('')\n",
        "  print('blackgram : {0:.2f}'.format(df[(df['label']=='blackgram ')][conditions].mean()))\n",
        "  print('')\n",
        "  print('mungbean: {0:.2f}'.format(df[(df['label']=='mungbean')][conditions].mean()))\n",
        "  print('')\n",
        "  print('mothbeans: {0:.2f}'.format(df[(df['label']=='mothbeans')][conditions].mean()))\n",
        "  print('')\n",
        "  print('pigeonpeas: {0:.2f}'.format(df[(df['label']=='pigeonpeas')][conditions].mean()))\n",
        "  print('')\n",
        "  print('kidneybeans: {0:.2f}'.format(df[(df['label']=='kidneybeans')][conditions].mean()))\n",
        "  print('')\n",
        "  print('chickpea: {0:.2f}'.format(df[(df['label']=='chickpea')][conditions].mean()))\n",
        "  print('')\n",
        "  print('coffee: {0:.2f}'.format(df[(df['label']=='coffee')][conditions].mean()))\n",
        "  print('')"
      ],
      "metadata": {
        "colab": {
          "base_uri": "https://localhost:8080/",
          "height": 848,
          "referenced_widgets": [
            "61f6a492f3cf4dd58b0c6e31a336451e",
            "ef317c14981c4cc5bf1f2e73b76244a0",
            "2fd13e26a944449d9abaf90f50e35013",
            "af38cb96fb20467eaa76580801135b42",
            "de7d055073c3415893a19e45b7157d42",
            "de0bd8f4f2544370926121527fffc87e",
            "fda03060855a42e58e55daf893699b0d"
          ]
        },
        "id": "puTFo1DnX-dU",
        "outputId": "045be70d-6482-4296-9cdc-a6e01f889306"
      },
      "execution_count": null,
      "outputs": [
        {
          "output_type": "display_data",
          "data": {
            "text/plain": [
              "interactive(children=(Dropdown(description='conditions', options=('N', 'P', 'K', 'temperature', 'humidity', 'p…"
            ],
            "application/vnd.jupyter.widget-view+json": {
              "version_major": 2,
              "version_minor": 0,
              "model_id": "61f6a492f3cf4dd58b0c6e31a336451e"
            }
          },
          "metadata": {}
        }
      ]
    },
    {
      "cell_type": "code",
      "source": [
        "plt.subplot(2,4,1)\n",
        "sns.distplot(df['N'], color='darkblue')\n",
        "plt.xlabel('ratio of nitrogen',fontsize=12)\n",
        "plt.grid()"
      ],
      "metadata": {
        "colab": {
          "base_uri": "https://localhost:8080/",
          "height": 164
        },
        "id": "-8jr6qDXh8Pn",
        "outputId": "4d4dc7c9-8c83-4176-a595-7961c68c720b"
      },
      "execution_count": null,
      "outputs": [
        {
          "output_type": "display_data",
          "data": {
            "text/plain": [
              "<Figure size 432x288 with 1 Axes>"
            ],
            "image/png": "[encoded data removed]"
          },
          "metadata": {
            "needs_background": "light"
          }
        }
      ]
    },
    {
      "cell_type": "code",
      "source": [
        "plt.subplot(2,4,2)\n",
        "sns.distplot(df['P'], color='darkblue')\n",
        "plt.xlabel('ratio of potassium',fontsize=12)\n",
        "plt.grid()\n"
      ],
      "metadata": {
        "colab": {
          "base_uri": "https://localhost:8080/",
          "height": 164
        },
        "id": "aoXj9DdYot9i",
        "outputId": "d2ccb8de-ee23-4683-c168-c2eb6dc4e302"
      },
      "execution_count": null,
      "outputs": [
        {
          "output_type": "display_data",
          "data": {
            "text/plain": [
              "<Figure size 432x288 with 1 Axes>"
            ],
            "image/png": "[encoded data removed]"
          },
          "metadata": {
            "needs_background": "light"
          }
        }
      ]
    },
    {
      "cell_type": "code",
      "source": [
        "plt.subplot(2,4,3)\n",
        "sns.distplot(df['K'], color='darkblue')\n",
        "plt.xlabel('ratio of potassium',fontsize=12)\n",
        "plt.grid()\n"
      ],
      "metadata": {
        "colab": {
          "base_uri": "https://localhost:8080/",
          "height": 164
        },
        "id": "sG3rPk5MovWR",
        "outputId": "64b45564-df8f-461f-a079-d6ea6f87bf06"
      },
      "execution_count": null,
      "outputs": [
        {
          "output_type": "display_data",
          "data": {
            "text/plain": [
              "<Figure size 432x288 with 1 Axes>"
            ],
            "image/png": "[encoded data removed]"
          },
          "metadata": {
            "needs_background": "light"
          }
        }
      ]
    },
    {
      "cell_type": "code",
      "source": [
        "plt.subplot(2,4,4)\n",
        "sns.distplot(df['temperature'], color='darkblue')\n",
        "plt.xlabel('ratio of tempreture',fontsize=12)\n",
        "plt.grid()"
      ],
      "metadata": {
        "colab": {
          "base_uri": "https://localhost:8080/",
          "height": 164
        },
        "id": "u1w8TKLzpF6v",
        "outputId": "322e3e3e-84e4-4c36-f92b-c16b4c8277c3"
      },
      "execution_count": null,
      "outputs": [
        {
          "output_type": "display_data",
          "data": {
            "text/plain": [
              "<Figure size 432x288 with 1 Axes>"
            ],
            "image/png": "[encoded data removed]"
          },
          "metadata": {
            "needs_background": "light"
          }
        }
      ]
    },
    {
      "cell_type": "code",
      "source": [
        "plt.subplot(2,4,5)\n",
        "sns.distplot(df['humidity'], color='darkblue')\n",
        "plt.xlabel('ratio of humidity',fontsize=12)\n",
        "plt.grid()"
      ],
      "metadata": {
        "colab": {
          "base_uri": "https://localhost:8080/",
          "height": 164
        },
        "id": "VF45S6tSpLhM",
        "outputId": "0d344dfb-2208-42d3-c96f-901c59db0c1f"
      },
      "execution_count": null,
      "outputs": [
        {
          "output_type": "display_data",
          "data": {
            "text/plain": [
              "<Figure size 432x288 with 1 Axes>"
            ],
            "image/png": "[encoded data removed]"
          },
          "metadata": {
            "needs_background": "light"
          }
        }
      ]
    },
    {
      "cell_type": "code",
      "source": [
        "plt.subplot(2,4,6)\n",
        "sns.distplot(df['ph'], color='darkblue')\n",
        "plt.xlabel('ratio of ph',fontsize=12)\n",
        "plt.grid()"
      ],
      "metadata": {
        "colab": {
          "base_uri": "https://localhost:8080/",
          "height": 167
        },
        "id": "hQLxobBzpP3m",
        "outputId": "33b09fc4-a1ff-4952-cb9e-5bcc13ea7178"
      },
      "execution_count": null,
      "outputs": [
        {
          "output_type": "display_data",
          "data": {
            "text/plain": [
              "<Figure size 432x288 with 1 Axes>"
            ],
            "image/png": "[encoded data removed]"
          },
          "metadata": {
            "needs_background": "light"
          }
        }
      ]
    },
    {
      "cell_type": "code",
      "source": [
        "plt.subplot(2,4,7)\n",
        "sns.distplot(df['rainfall'], color='darkblue')\n",
        "plt.xlabel('ratio of rainfall',fontsize=12)\n",
        "plt.grid()"
      ],
      "metadata": {
        "colab": {
          "base_uri": "https://localhost:8080/",
          "height": 164
        },
        "id": "L_c_38m3pUPg",
        "outputId": "197864c8-17d8-46c2-afb3-086d0afd605d"
      },
      "execution_count": null,
      "outputs": [
        {
          "output_type": "display_data",
          "data": {
            "text/plain": [
              "<Figure size 432x288 with 1 Axes>"
            ],
            "image/png": "[encoded data removed]"
          },
          "metadata": {
            "needs_background": "light"
          }
        }
      ]
    },
    {
      "cell_type": "code",
      "source": [
        "print('high ratio nitrogen crop:', df[df['N']>120]['label'].unique())\n",
        "\n",
        "print('high ratio phasphorus crop:', df[df['P']>100]['label'].unique())\n",
        "\n",
        "print('high ratio potassium crop:', df[df['K']>200]['label'].unique())\n",
        "\n",
        "print('high ratio temperature crop:', df[df['temperature']<10]['label'].unique())\n",
        "\n",
        "print('high ratio temperature crop:', df[df['temperature']>40]['label'].unique())\n",
        "\n",
        "print('high ratio humidity crop:', df[df['humidity']<20]['label'].unique())\n",
        "\n",
        "print('high ratio ph crop:', df[df['ph']<4]['label'].unique())\n",
        "\n",
        "print('high ratio ph crop:', df[df['ph']>9]['label'].unique())\n",
        "\n",
        "print('high ratio rainfall crop:', df[df['rainfall']>200]['label'].unique())"
      ],
      "metadata": {
        "colab": {
          "base_uri": "https://localhost:8080/"
        },
        "id": "WfXVS79wpYdX",
        "outputId": "8b5c43fd-474f-4623-d235-c43855d728ee"
      },
      "execution_count": null,
      "outputs": [
        {
          "output_type": "stream",
          "name": "stdout",
          "text": [
            "high ratio nitrogen crop: ['cotton']\n",
            "high ratio phasphorus crop: ['grapes' 'apple']\n",
            "high ratio potassium crop: ['grapes' 'apple']\n",
            "high ratio temperature crop: ['grapes']\n",
            "high ratio temperature crop: ['grapes' 'papaya']\n",
            "high ratio humidity crop: ['chickpea' 'kidneybeans']\n",
            "high ratio ph crop: ['mothbeans']\n",
            "high ratio ph crop: ['mothbeans']\n",
            "high ratio rainfall crop: ['rice' 'papaya' 'coconut']\n"
          ]
        }
      ]
    },
    {
      "cell_type": "code",
      "source": [
        "print('summer crops:')\n",
        "print(df[(df['temperature']>30)& (df['humidity']>50)]['label'].unique())\n",
        "print('')\n",
        "print('winter crops:')\n",
        "print(df[(df['temperature']<20)& (df['humidity']>30)]['label'].unique())\n",
        "print('')\n",
        "print('rainy crops:')\n",
        "print(df[(df['rainfall']>200)& (df['humidity']>30)]['label'].unique())"
      ],
      "metadata": {
        "colab": {
          "base_uri": "https://localhost:8080/"
        },
        "id": "OYsYyoHvxKZZ",
        "outputId": "006346e7-94ad-4754-f232-4a1e0e2c07d3"
      },
      "execution_count": null,
      "outputs": [
        {
          "output_type": "stream",
          "name": "stdout",
          "text": [
            "summer crops:\n",
            "['pigeonpeas' 'mothbeans' 'blackgram' 'mango' 'grapes' 'orange' 'papaya']\n",
            "\n",
            "winter crops:\n",
            "['maize' 'pigeonpeas' 'lentil' 'pomegranate' 'grapes' 'orange']\n",
            "\n",
            "rainy crops:\n",
            "['rice' 'papaya' 'coconut']\n"
          ]
        }
      ]
    },
    {
      "cell_type": "code",
      "source": [
        "from sklearn.cluster import KMeans\n",
        "\n",
        "x=df.drop(['label'],axis=1)\n",
        "x-x.values\n",
        "\n",
        "print(x.shape)"
      ],
      "metadata": {
        "colab": {
          "base_uri": "https://localhost:8080/"
        },
        "id": "1cLweE0t28kt",
        "outputId": "d5cb82b5-e6dc-403d-9b62-a272f21433ec"
      },
      "execution_count": null,
      "outputs": [
        {
          "output_type": "stream",
          "name": "stdout",
          "text": [
            "(2200, 7)\n"
          ]
        }
      ]
    },
    {
      "cell_type": "code",
      "source": [
        "k=KMeans(n_clusters=4,init='k-means++', max_iter=300, n_init=10, random_state=0)\n",
        "y_means=k.fit_predict(x)\n",
        "\n",
        "a=df['label']\n",
        "\n",
        "y_means=pd.DataFrame(y_means)\n",
        "z=pd.concat([y_means,a],axis=1)\n",
        "z=z.rename(columns={0:'cluster'})\n",
        "\n",
        "print('crops in 1th cluster:', z[z['cluster']==0]['label'].unique())\n",
        "print('')\n",
        "print('crops in 2nd cluster:', z[z['cluster']==1]['label'].unique())\n",
        "print('')\n",
        "print('crops in 3rd cluster:', z[z['cluster']==2]['label'].unique())\n",
        "print('')\n",
        "print('crops in 4th cluster:', z[z['cluster']==3]['label'].unique())"
      ],
      "metadata": {
        "colab": {
          "base_uri": "https://localhost:8080/"
        },
        "id": "nG51zseW5Tav",
        "outputId": "f460d43d-4112-4cae-e564-945917f0ef35"
      },
      "execution_count": null,
      "outputs": [
        {
          "output_type": "stream",
          "name": "stdout",
          "text": [
            "crops in 1th cluster: ['maize' 'chickpea' 'kidneybeans' 'pigeonpeas' 'mothbeans' 'mungbean'\n",
            " 'blackgram' 'lentil' 'pomegranate' 'mango' 'orange' 'papaya' 'coconut']\n",
            "\n",
            "crops in 2nd cluster: ['maize' 'banana' 'watermelon' 'muskmelon' 'papaya' 'cotton' 'coffee']\n",
            "\n",
            "crops in 3rd cluster: ['grapes' 'apple']\n",
            "\n",
            "crops in 4th cluster: ['rice' 'pigeonpeas' 'papaya' 'coconut' 'jute' 'coffee']\n"
          ]
        }
      ]
    },
    {
      "cell_type": "code",
      "source": [
        "y=df['label']\n",
        "x=df.drop(['label'],axis=1)\n",
        "print(x.shape)\n",
        "print(y.shape)"
      ],
      "metadata": {
        "colab": {
          "base_uri": "https://localhost:8080/"
        },
        "id": "7YGGn3CrCt_W",
        "outputId": "190c1699-533a-40bf-c092-2eb40071ea85"
      },
      "execution_count": null,
      "outputs": [
        {
          "output_type": "stream",
          "name": "stdout",
          "text": [
            "(2200, 7)\n",
            "(2200,)\n"
          ]
        }
      ]
    },
    {
      "cell_type": "code",
      "source": [
        "from sklearn.model_selection import train_test_split\n",
        "x_train,x_test,y_train,y_test= train_test_split(x,y,test_size=0.2,random_state=0)\n",
        "\n",
        "print(x_train.shape)\n",
        "print(x_test.shape)\n",
        "print(y_train.shape)\n",
        "print(y_test.shape)"
      ],
      "metadata": {
        "colab": {
          "base_uri": "https://localhost:8080/"
        },
        "id": "OJWIIFgEo0O2",
        "outputId": "ebe61f08-0c6f-4d8e-a590-6e180794859f"
      },
      "execution_count": null,
      "outputs": [
        {
          "output_type": "stream",
          "name": "stdout",
          "text": [
            "(1760, 7)\n",
            "(440, 7)\n",
            "(1760,)\n",
            "(440,)\n"
          ]
        }
      ]
    },
    {
      "cell_type": "code",
      "source": [
        "from sklearn.linear_model import LogisticRegression\n",
        "model=LogisticRegression()\n",
        "model.fit(x_train,y_train)\n",
        "y_pred=model.predict(x_test)"
      ],
      "metadata": {
        "id": "B6_QIWYRqaIp"
      },
      "execution_count": null,
      "outputs": []
    },
    {
      "cell_type": "code",
      "source": [
        "df.tail(7)"
      ],
      "metadata": {
        "colab": {
          "base_uri": "https://localhost:8080/",
          "height": 269
        },
        "id": "s-H_SXyWA7Se",
        "outputId": "2658b5cb-8715-4731-bc1a-4679e55fac1f"
      },
      "execution_count": null,
      "outputs": [
        {
          "output_type": "execute_result",
          "data": {
            "text/plain": [
              "        N   P   K  temperature   humidity        ph    rainfall   label\n",
              "2193  116  38  34    23.292503  50.045570  6.020947  183.468585  coffee\n",
              "2194   97  35  26    24.914610  53.741447  6.334610  166.254931  coffee\n",
              "2195  107  34  32    26.774637  66.413269  6.780064  177.774507  coffee\n",
              "2196   99  15  27    27.417112  56.636362  6.086922  127.924610  coffee\n",
              "2197  118  33  30    24.131797  67.225123  6.362608  173.322839  coffee\n",
              "2198  117  32  34    26.272418  52.127394  6.758793  127.175293  coffee\n",
              "2199  104  18  30    23.603016  60.396475  6.779833  140.937041  coffee"
            ],
            "text/html": [
              "\n",
              "  <div id=\"df-a8bfb991-6b7b-4ed5-9cc7-f0d91d6da0f1\">\n",
              "    <div class=\"colab-df-container\">\n",
              "      <div>\n",
              "<style scoped>\n",
              "    .dataframe tbody tr th:only-of-type {\n",
              "        vertical-align: middle;\n",
              "    }\n",
              "\n",
              "    .dataframe tbody tr th {\n",
              "        vertical-align: top;\n",
              "    }\n",
              "\n",
              "    .dataframe thead th {\n",
              "        text-align: right;\n",
              "    }\n",
              "</style>\n",
              "<table border=\"1\" class=\"dataframe\">\n",
              "  <thead>\n",
              "    <tr style=\"text-align: right;\">\n",
              "      <th></th>\n",
              "      <th>N</th>\n",
              "      <th>P</th>\n",
              "      <th>K</th>\n",
              "      <th>temperature</th>\n",
              "      <th>humidity</th>\n",
              "      <th>ph</th>\n",
              "      <th>rainfall</th>\n",
              "      <th>label</th>\n",
              "    </tr>\n",
              "  </thead>\n",
              "  <tbody>\n",
              "    <tr>\n",
              "      <th>2193</th>\n",
              "      <td>116</td>\n",
              "      <td>38</td>\n",
              "      <td>34</td>\n",
              "      <td>23.292503</td>\n",
              "      <td>50.045570</td>\n",
              "      <td>6.020947</td>\n",
              "      <td>183.468585</td>\n",
              "      <td>coffee</td>\n",
              "    </tr>\n",
              "    <tr>\n",
              "      <th>2194</th>\n",
              "      <td>97</td>\n",
              "      <td>35</td>\n",
              "      <td>26</td>\n",
              "      <td>24.914610</td>\n",
              "      <td>53.741447</td>\n",
              "      <td>6.334610</td>\n",
              "      <td>166.254931</td>\n",
              "      <td>coffee</td>\n",
              "    </tr>\n",
              "    <tr>\n",
              "      <th>2195</th>\n",
              "      <td>107</td>\n",
              "      <td>34</td>\n",
              "      <td>32</td>\n",
              "      <td>26.774637</td>\n",
              "      <td>66.413269</td>\n",
              "      <td>6.780064</td>\n",
              "      <td>177.774507</td>\n",
              "      <td>coffee</td>\n",
              "    </tr>\n",
              "    <tr>\n",
              "      <th>2196</th>\n",
              "      <td>99</td>\n",
              "      <td>15</td>\n",
              "      <td>27</td>\n",
              "      <td>27.417112</td>\n",
              "      <td>56.636362</td>\n",
              "      <td>6.086922</td>\n",
              "      <td>127.924610</td>\n",
              "      <td>coffee</td>\n",
              "    </tr>\n",
              "    <tr>\n",
              "      <th>2197</th>\n",
              "      <td>118</td>\n",
              "      <td>33</td>\n",
              "      <td>30</td>\n",
              "      <td>24.131797</td>\n",
              "      <td>67.225123</td>\n",
              "      <td>6.362608</td>\n",
              "      <td>173.322839</td>\n",
              "      <td>coffee</td>\n",
              "    </tr>\n",
              "    <tr>\n",
              "      <th>2198</th>\n",
              "      <td>117</td>\n",
              "      <td>32</td>\n",
              "      <td>34</td>\n",
              "      <td>26.272418</td>\n",
              "      <td>52.127394</td>\n",
              "      <td>6.758793</td>\n",
              "      <td>127.175293</td>\n",
              "      <td>coffee</td>\n",
              "    </tr>\n",
              "    <tr>\n",
              "      <th>2199</th>\n",
              "      <td>104</td>\n",
              "      <td>18</td>\n",
              "      <td>30</td>\n",
              "      <td>23.603016</td>\n",
              "      <td>60.396475</td>\n",
              "      <td>6.779833</td>\n",
              "      <td>140.937041</td>\n",
              "      <td>coffee</td>\n",
              "    </tr>\n",
              "  </tbody>\n",
              "</table>\n",
              "</div>\n",
              "      <button class=\"colab-df-convert\" onclick=\"convertToInteractive('df-a8bfb991-6b7b-4ed5-9cc7-f0d91d6da0f1')\"\n",
              "              title=\"Convert this dataframe to an interactive table.\"\n",
              "              style=\"display:none;\">\n",
              "        \n",
              "  <svg xmlns=\"http://www.w3.org/2000/svg\" height=\"24px\"viewBox=\"0 0 24 24\"\n",
              "       width=\"24px\">\n",
              "    <path d=\"M0 0h24v24H0V0z\" fill=\"none\"/>\n",
              "    <path d=\"M18.56 5.44l.94 2.06.94-2.06 2.06-.94-2.06-.94-.94-2.06-.94 2.06-2.06.94zm-11 1L8.5 8.5l.94-2.06 2.06-.94-2.06-.94L8.5 2.5l-.94 2.06-2.06.94zm10 10l.94 2.06.94-2.06 2.06-.94-2.06-.94-.94-2.06-.94 2.06-2.06.94z\"/><path d=\"M17.41 7.96l-1.37-1.37c-.4-.4-.92-.59-1.43-.59-.52 0-1.04.2-1.43.59L10.3 9.45l-7.72 7.72c-.78.78-.78 2.05 0 2.83L4 21.41c.39.39.9.59 1.41.59.51 0 1.02-.2 1.41-.59l7.78-7.78 2.81-2.81c.8-.78.8-2.07 0-2.86zM5.41 20L4 18.59l7.72-7.72 1.47 1.35L5.41 20z\"/>\n",
              "  </svg>\n",
              "      </button>\n",
              "      \n",
              "  <style>\n",
              "    .colab-df-container {\n",
              "      display:flex;\n",
              "      flex-wrap:wrap;\n",
              "      gap: 12px;\n",
              "    }\n",
              "\n",
              "    .colab-df-convert {\n",
              "      background-color: #E8F0FE;\n",
              "      border: none;\n",
              "      border-radius: 50%;\n",
              "      cursor: pointer;\n",
              "      display: none;\n",
              "      fill: #1967D2;\n",
              "      height: 32px;\n",
              "      padding: 0 0 0 0;\n",
              "      width: 32px;\n",
              "    }\n",
              "\n",
              "    .colab-df-convert:hover {\n",
              "      background-color: #E2EBFA;\n",
              "      box-shadow: 0px 1px 2px rgba(60, 64, 67, 0.3), 0px 1px 3px 1px rgba(60, 64, 67, 0.15);\n",
              "      fill: #174EA6;\n",
              "    }\n",
              "\n",
              "    [theme=dark] .colab-df-convert {\n",
              "      background-color: #3B4455;\n",
              "      fill: #D2E3FC;\n",
              "    }\n",
              "\n",
              "    [theme=dark] .colab-df-convert:hover {\n",
              "      background-color: #434B5C;\n",
              "      box-shadow: 0px 1px 3px 1px rgba(0, 0, 0, 0.15);\n",
              "      filter: drop-shadow(0px 1px 2px rgba(0, 0, 0, 0.3));\n",
              "      fill: #FFFFFF;\n",
              "    }\n",
              "  </style>\n",
              "\n",
              "      <script>\n",
              "        const buttonEl =\n",
              "          document.querySelector('#df-a8bfb991-6b7b-4ed5-9cc7-f0d91d6da0f1 button.colab-df-convert');\n",
              "        buttonEl.style.display =\n",
              "          google.colab.kernel.accessAllowed ? 'block' : 'none';\n",
              "\n",
              "        async function convertToInteractive(key) {\n",
              "          const element = document.querySelector('#df-a8bfb991-6b7b-4ed5-9cc7-f0d91d6da0f1');\n",
              "          const dataTable =\n",
              "            await google.colab.kernel.invokeFunction('convertToInteractive',\n",
              "                                                     [key], {});\n",
              "          if (!dataTable) return;\n",
              "\n",
              "          const docLinkHtml = 'Like what you see? Visit the ' +\n",
              "            '<a target=\"_blank\" href=https://colab.research.google.com/notebooks/data_table.ipynb>data table notebook</a>'\n",
              "            + ' to learn more about interactive tables.';\n",
              "          element.innerHTML = '';\n",
              "          dataTable['output_type'] = 'display_data';\n",
              "          await google.colab.output.renderOutput(dataTable, element);\n",
              "          const docLink = document.createElement('div');\n",
              "          docLink.innerHTML = docLinkHtml;\n",
              "          element.appendChild(docLink);\n",
              "        }\n",
              "      </script>\n",
              "    </div>\n",
              "  </div>\n",
              "  "
            ]
          },
          "metadata": {},
          "execution_count": 31
        }
      ]
    },
    {
      "cell_type": "code",
      "source": [
        "N=input('enter value of N: ')\n",
        "P=input('enter value of P: ')\n",
        "K=input('enter value of K: ')\n",
        "temperature=input('enter value of temperature : ')\n",
        "humidity=input('enter value of humidity : ')\n",
        "rainfall=input('enter value of rainfall : ')\n",
        "ph=input('enter value of ph : ')\n",
        "\n",
        "prediction=model.predict((np.array([[N,P,K,temperature,humidity,rainfall,ph]])))\n",
        "print('==========================================')\n",
        "print('suggested crop: ',prediction)"
      ],
      "metadata": {
        "colab": {
          "base_uri": "https://localhost:8080/"
        },
        "id": "UDJJUNdhtrjP",
        "outputId": "7d96d389-682d-4ec6-e7be-599ff725fc3a"
      },
      "execution_count": null,
      "outputs": [
        {
          "output_type": "stream",
          "name": "stdout",
          "text": [
            "enter value of N: 4\n",
            "enter value of P: 5\n",
            "enter value of K: 3\n",
            "enter value of temperature : 34\n",
            "enter value of humidity : 45\n",
            "enter value of rainfall : 128\n",
            "enter value of ph : 2\n",
            "==========================================\n",
            "suggested crop:  ['mothbeans']\n"
          ]
        }
      ]
    },
    {
      "cell_type": "code",
      "source": [
        "filename = 'finalized_model.sav'\n",
        "pickle.dump(model, open(filename, 'wb'))"
      ],
      "metadata": {
        "id": "SvI5ysQV56oi"
      },
      "execution_count": null,
      "outputs": []
    }
  ]
}